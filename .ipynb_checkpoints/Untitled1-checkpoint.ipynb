{
 "cells": [
  {
   "cell_type": "code",
   "execution_count": 352,
   "id": "2e1c3ba5",
   "metadata": {
    "ExecuteTime": {
     "end_time": "2022-10-12T17:31:38.388933Z",
     "start_time": "2022-10-12T17:31:38.385315Z"
    }
   },
   "outputs": [],
   "source": [
    "from bs4 import BeautifulSoup\n",
    "import numpy as np\n",
    "import pandas as pd\n",
    "import requests\n",
    "import unidecode"
   ]
  },
  {
   "cell_type": "code",
   "execution_count": 353,
   "id": "c5bead27",
   "metadata": {
    "ExecuteTime": {
     "end_time": "2022-10-12T17:31:39.161691Z",
     "start_time": "2022-10-12T17:31:38.541493Z"
    }
   },
   "outputs": [],
   "source": [
    "r = requests.get('https://mundoeducacao.uol.com.br/geografia/estados-brasil.htm')\n",
    "soup = BeautifulSoup(r.text,'html.parser')"
   ]
  },
  {
   "cell_type": "code",
   "execution_count": 354,
   "id": "7995edfc",
   "metadata": {
    "ExecuteTime": {
     "end_time": "2022-10-12T17:31:39.859370Z",
     "start_time": "2022-10-12T17:31:39.163383Z"
    }
   },
   "outputs": [],
   "source": [
    "depara_estados = pd.read_html('https://mundoeducacao.uol.com.br/geografia/estados-brasil.htm')[0]\n",
    "new_header = depara_estados.iloc[0]\n",
    "depara_estados = depara_estados[1:]\n",
    "depara_estados.columns = new_header\n",
    "depara_estados['Estado'] = depara_estados['Estado'].apply(lambda x: unidecode.unidecode(x.lower()).replace(' ','-'))\n",
    "depara_estados['Sigla'] = depara_estados['Sigla'].apply(lambda x: x.lower())"
   ]
  },
  {
   "cell_type": "code",
   "execution_count": 355,
   "id": "07847a23",
   "metadata": {
    "ExecuteTime": {
     "end_time": "2022-10-12T17:32:03.980127Z",
     "start_time": "2022-10-12T17:31:39.861636Z"
    }
   },
   "outputs": [],
   "source": [
    "votos = []\n",
    "nomes = []\n",
    "partido = []\n",
    "votos_totais = []\n",
    "votos_validos = []\n",
    "links = []\n",
    "estado = []\n",
    "resultados = {}\n",
    "\n",
    "for c in range(1,28):\n",
    "    links.append('https://g1.globo.com/{}/{}/eleicoes/2022/apuracao/governador.ghtml'.format(depara_estados.loc[c,'Sigla'],depara_estados.loc[c,'Estado']))\n",
    "\n",
    "for link in links:\n",
    "    r = requests.get(link)\n",
    "    soup = BeautifulSoup(r.text,'html.parser')\n",
    "    qtd_candidatos = len(soup.find('ol','apuracao-executivo-candidatos js__executivo--candidatos').findAll('li'))\n",
    "    for c in range(qtd_candidatos):\n",
    "        votos.append(soup.find('ol','apuracao-executivo-candidatos js__executivo--candidatos').findAll('li')[c].find('p',class_='eui-update-status').text)\n",
    "        nomes.append(soup.find('ol','apuracao-executivo-candidatos js__executivo--candidatos').findAll('li')[c].find('p',class_='apuracao-executivo-candidatos-item__nome eui-candidate-name').text)\n",
    "        partido.append(soup.find('ol','apuracao-executivo-candidatos js__executivo--candidatos').findAll('li')[c].find('span',class_='apuracao-executivo-candidatos-item__party eui-party-name').text)\n",
    "        votos_totais.append(soup.findAll('div',class_='eui-statistic-item')[0].text.replace('TOTAL','').replace(' ',''))\n",
    "        votos_validos.append(soup.findAll('div',class_='eui-statistic-item')[1].text.replace('VÁLIDOS','').replace(' ','').split('(')[0])\n",
    "        estado.append(link.split('/')[3])\n",
    "        \n",
    "    resultados['nomes'] = nomes\n",
    "    resultados['votos'] = votos\n",
    "    resultados['partido'] = partido\n",
    "    resultados['votos_totais'] = votos_totais\n",
    "    resultados['votos_validos'] = votos_validos\n",
    "    resultados['estado'] = estado\n",
    "    \n",
    "    \n",
    "resultados_2022 = pd.DataFrame(resultados)\n",
    "resultados_2022['nomes'] = resultados_2022['nomes'].apply(lambda x: re.match(' (.+) ',x).group(1))\n",
    "resultados_2022['partido'] = resultados_2022['partido'].apply(lambda x: re.match(' (.+) ',x).group(1))\n",
    "resultados_2022['votos_totais'] = resultados_2022['votos_totais'].apply(lambda x: x.replace('.',''))\n",
    "resultados_2022['votos_validos'] = resultados_2022['votos_totais'].apply(lambda x: x.replace('.',''))\n",
    "resultados_2022['votos'] = resultados_2022['votos'].apply(lambda x: (re.match(' (.+) ',x).group(1)).replace('votos','').replace(' ','').replace('.',''))\n",
    "resultados_2022['turno'] = 1\n",
    "resultados_2022['ano'] = 2022"
   ]
  },
  {
   "cell_type": "code",
   "execution_count": 356,
   "id": "37cd1667",
   "metadata": {
    "ExecuteTime": {
     "end_time": "2022-10-12T17:32:22.054407Z",
     "start_time": "2022-10-12T17:32:03.981898Z"
    }
   },
   "outputs": [
    {
     "name": "stderr",
     "output_type": "stream",
     "text": [
      "/var/folders/ts/qnrqfkqx7ldcn69lydmzhd2h0000gn/T/ipykernel_21550/43435602.py:55: FutureWarning: In a future version of pandas all arguments of DataFrame.drop except for the argument 'labels' will be keyword-only.\n",
      "  turno2_2018.drop('index',1,inplace=True)\n"
     ]
    }
   ],
   "source": [
    "votos = []\n",
    "nomes = []\n",
    "partido = []\n",
    "votos_totais = []\n",
    "votos_validos = []\n",
    "turno_lst = []\n",
    "links = []\n",
    "estado = []\n",
    "resultados = {}\n",
    "\n",
    "for c in range(1,28):\n",
    "    links.append('https://g1.globo.com/politica/eleicoes/2018/{}/apuracao/governador.ghtml'.format(depara_estados.loc[c,'Sigla']))\n",
    "\n",
    "for link in links:\n",
    "    r = requests.get(link)\n",
    "    soup = BeautifulSoup(r.text,'html.parser')\n",
    "    \n",
    "    turnos = []\n",
    "    turno1 = soup.find('div',attrs={'id':'turno1'})\n",
    "    turno2 = soup.find('div',attrs={'id':'turno2'})\n",
    "    \n",
    "    if turno2 != None:\n",
    "        turnos = [turno1,turno2]\n",
    "    else:\n",
    "        turnos = [turno1]\n",
    "    \n",
    "    for n_turno,turno in enumerate(turnos):\n",
    "        qtd_candidatos = len(turno.find('ol','apuracao-executivo-candidatos js__executivo--candidatos').findAll('li'))\n",
    "        for c in range(qtd_candidatos):\n",
    "            votos.append(turno.find('ol','apuracao-executivo-candidatos js__executivo--candidatos').findAll('li')[c].find('p',class_='eui-update-status').text)\n",
    "            nomes.append(turno.find('ol','apuracao-executivo-candidatos js__executivo--candidatos').findAll('li')[c].find('p',class_='apuracao-executivo-candidatos-item__nome eui-candidate-name').text)\n",
    "            partido.append(turno.find('ol','apuracao-executivo-candidatos js__executivo--candidatos').findAll('li')[c].find('span',class_='apuracao-executivo-candidatos-item__party eui-party-name').text)\n",
    "            votos_totais.append(turno.findAll('div',class_='eui-statistic-item')[0].text.replace('TOTAL','').replace(' ',''))\n",
    "            votos_validos.append(turno.findAll('div',class_='eui-statistic-item')[1].text.replace('VÁLIDOS','').replace(' ','').split('(')[0])\n",
    "            turno_lst.append(n_turno+1)\n",
    "            estado.append(link.split('/')[6])\n",
    "    resultados['nomes'] = nomes\n",
    "    resultados['votos'] = votos\n",
    "    resultados['partido'] = partido\n",
    "    resultados['votos_totais'] = votos_totais\n",
    "    resultados['votos_validos'] = votos_validos\n",
    "    resultados['turno'] = turno_lst\n",
    "    resultados['estado'] = estado\n",
    "    \n",
    "resultados_2018 = pd.DataFrame(resultados)\n",
    "resultados_2018['nomes'] = resultados_2018['nomes'].apply(lambda x: re.match(' (.+) ',x).group(1))\n",
    "resultados_2018['partido'] = resultados_2018['partido'].apply(lambda x: re.match(' (.+) ',x).group(1))\n",
    "resultados_2018['votos_totais'] = resultados_2018['votos_totais'].apply(lambda x: x.replace('.',''))\n",
    "resultados_2018['votos_validos'] = resultados_2018['votos_totais'].apply(lambda x: x.replace('.',''))\n",
    "resultados_2018['votos'] = resultados_2018['votos'].apply(lambda x: (re.match(' (.+) ',x).group(1)).replace('votos','').replace(' ','').replace('.',''))\n",
    "resultados_2018['ano'] = 2018\n",
    "\n",
    "# Deu problema na coleta do 2 turno\n",
    "turno2_2018 = pd.read_csv('turno2_2018 - turno2.csv')\n",
    "turno2_2018.drop('index',1,inplace=True)\n",
    "turno2_2018['votos'] = turno2_2018['votos'].apply(lambda x: x.replace('.',''))\n",
    "turno2_2018['votos_totais'] = turno2_2018['votos_totais'].apply(lambda x: x.replace('.',''))\n",
    "turno2_2018['votos_validos'] = turno2_2018['votos_validos'].apply(lambda x: x.replace('.',''))\n",
    "\n",
    "turno1_2018 = resultados_2018[resultados_2018['turno']==1]\n",
    "resultados_2018 = pd.concat([turno1_2018,turno2_2018])"
   ]
  },
  {
   "cell_type": "code",
   "execution_count": 392,
   "id": "c0af5907",
   "metadata": {
    "ExecuteTime": {
     "end_time": "2022-10-12T19:53:18.590603Z",
     "start_time": "2022-10-12T19:53:18.580707Z"
    }
   },
   "outputs": [],
   "source": [
    "resultados = pd.concat([resultados_2018,resultados_2022])\n",
    "\n",
    "resultados['votos'] = resultados['votos'].astype('int')\n",
    "resultados['votos_totais'] = resultados['votos_totais'].astype('int')\n",
    "resultados['votos_validos'] = resultados['votos_validos'].astype('int')\n",
    "resultados['turno'] = resultados['turno'].astype('int')\n",
    "resultados['ano'] = resultados['ano'].astype('int')"
   ]
  },
  {
   "cell_type": "code",
   "execution_count": 393,
   "id": "b1e86569",
   "metadata": {
    "ExecuteTime": {
     "end_time": "2022-10-12T19:53:19.535845Z",
     "start_time": "2022-10-12T19:53:19.113577Z"
    }
   },
   "outputs": [
    {
     "name": "stderr",
     "output_type": "stream",
     "text": [
      "/var/folders/ts/qnrqfkqx7ldcn69lydmzhd2h0000gn/T/ipykernel_21550/2739623123.py:3: FutureWarning: In a future version of pandas all arguments of DataFrame.drop except for the argument 'labels' will be keyword-only.\n",
      "  resultados = pd.merge(resultados,aux_idpoder360,left_on='nomes',right_on='nome_candidato').drop('nome_candidato',1)\n"
     ]
    },
    {
     "data": {
      "text/html": [
       "<div>\n",
       "<style scoped>\n",
       "    .dataframe tbody tr th:only-of-type {\n",
       "        vertical-align: middle;\n",
       "    }\n",
       "\n",
       "    .dataframe tbody tr th {\n",
       "        vertical-align: top;\n",
       "    }\n",
       "\n",
       "    .dataframe thead th {\n",
       "        text-align: right;\n",
       "    }\n",
       "</style>\n",
       "<table border=\"1\" class=\"dataframe\">\n",
       "  <thead>\n",
       "    <tr style=\"text-align: right;\">\n",
       "      <th></th>\n",
       "      <th>nome</th>\n",
       "      <th>partido</th>\n",
       "      <th>votos</th>\n",
       "      <th>votos_validos</th>\n",
       "      <th>total_votos</th>\n",
       "      <th>turno</th>\n",
       "      <th>ano</th>\n",
       "      <th>id_poder_360</th>\n",
       "      <th>local_que_concorreu</th>\n",
       "    </tr>\n",
       "  </thead>\n",
       "  <tbody>\n",
       "    <tr>\n",
       "      <th>0</th>\n",
       "      <td>Gladson Cameli</td>\n",
       "      <td>PP</td>\n",
       "      <td>223993</td>\n",
       "      <td>443429</td>\n",
       "      <td>443429</td>\n",
       "      <td>1</td>\n",
       "      <td>2018</td>\n",
       "      <td>4820</td>\n",
       "      <td>ac</td>\n",
       "    </tr>\n",
       "    <tr>\n",
       "      <th>1</th>\n",
       "      <td>Gladson Cameli</td>\n",
       "      <td>PROGRESSISTAS</td>\n",
       "      <td>242100</td>\n",
       "      <td>455438</td>\n",
       "      <td>455438</td>\n",
       "      <td>1</td>\n",
       "      <td>2022</td>\n",
       "      <td>4820</td>\n",
       "      <td>ac</td>\n",
       "    </tr>\n",
       "    <tr>\n",
       "      <th>2</th>\n",
       "      <td>Marcus Alexandre</td>\n",
       "      <td>PT</td>\n",
       "      <td>144071</td>\n",
       "      <td>443429</td>\n",
       "      <td>443429</td>\n",
       "      <td>1</td>\n",
       "      <td>2018</td>\n",
       "      <td>3578</td>\n",
       "      <td>ac</td>\n",
       "    </tr>\n",
       "    <tr>\n",
       "      <th>3</th>\n",
       "      <td>Coronel Ulysses</td>\n",
       "      <td>PSL</td>\n",
       "      <td>45032</td>\n",
       "      <td>443429</td>\n",
       "      <td>443429</td>\n",
       "      <td>1</td>\n",
       "      <td>2018</td>\n",
       "      <td>4821</td>\n",
       "      <td>ac</td>\n",
       "    </tr>\n",
       "    <tr>\n",
       "      <th>4</th>\n",
       "      <td>David Hall</td>\n",
       "      <td>AVANTE</td>\n",
       "      <td>1215</td>\n",
       "      <td>443429</td>\n",
       "      <td>443429</td>\n",
       "      <td>1</td>\n",
       "      <td>2018</td>\n",
       "      <td>4825</td>\n",
       "      <td>ac</td>\n",
       "    </tr>\n",
       "    <tr>\n",
       "      <th>...</th>\n",
       "      <td>...</td>\n",
       "      <td>...</td>\n",
       "      <td>...</td>\n",
       "      <td>...</td>\n",
       "      <td>...</td>\n",
       "      <td>...</td>\n",
       "      <td>...</td>\n",
       "      <td>...</td>\n",
       "      <td>...</td>\n",
       "    </tr>\n",
       "    <tr>\n",
       "      <th>261</th>\n",
       "      <td>Izalci</td>\n",
       "      <td>PSDB</td>\n",
       "      <td>70584</td>\n",
       "      <td>1807484</td>\n",
       "      <td>1807484</td>\n",
       "      <td>1</td>\n",
       "      <td>2022</td>\n",
       "      <td>695</td>\n",
       "      <td>df</td>\n",
       "    </tr>\n",
       "    <tr>\n",
       "      <th>262</th>\n",
       "      <td>Keka Bagno</td>\n",
       "      <td>PSOL</td>\n",
       "      <td>13613</td>\n",
       "      <td>1807484</td>\n",
       "      <td>1807484</td>\n",
       "      <td>1</td>\n",
       "      <td>2022</td>\n",
       "      <td>6184</td>\n",
       "      <td>df</td>\n",
       "    </tr>\n",
       "    <tr>\n",
       "      <th>263</th>\n",
       "      <td>Lucas Salles</td>\n",
       "      <td>DC</td>\n",
       "      <td>4218</td>\n",
       "      <td>1807484</td>\n",
       "      <td>1807484</td>\n",
       "      <td>1</td>\n",
       "      <td>2022</td>\n",
       "      <td>6205</td>\n",
       "      <td>df</td>\n",
       "    </tr>\n",
       "    <tr>\n",
       "      <th>264</th>\n",
       "      <td>Robson</td>\n",
       "      <td>PSTU</td>\n",
       "      <td>841</td>\n",
       "      <td>1807484</td>\n",
       "      <td>1807484</td>\n",
       "      <td>1</td>\n",
       "      <td>2022</td>\n",
       "      <td>1447</td>\n",
       "      <td>df</td>\n",
       "    </tr>\n",
       "    <tr>\n",
       "      <th>265</th>\n",
       "      <td>Renan Arruda</td>\n",
       "      <td>PCO</td>\n",
       "      <td>373</td>\n",
       "      <td>1807484</td>\n",
       "      <td>1807484</td>\n",
       "      <td>1</td>\n",
       "      <td>2022</td>\n",
       "      <td>6327</td>\n",
       "      <td>df</td>\n",
       "    </tr>\n",
       "  </tbody>\n",
       "</table>\n",
       "<p>266 rows × 9 columns</p>\n",
       "</div>"
      ],
      "text/plain": [
       "                 nome        partido   votos  votos_validos  total_votos  \\\n",
       "0      Gladson Cameli             PP  223993         443429       443429   \n",
       "1      Gladson Cameli  PROGRESSISTAS  242100         455438       455438   \n",
       "2    Marcus Alexandre             PT  144071         443429       443429   \n",
       "3     Coronel Ulysses            PSL   45032         443429       443429   \n",
       "4          David Hall         AVANTE    1215         443429       443429   \n",
       "..                ...            ...     ...            ...          ...   \n",
       "261            Izalci           PSDB   70584        1807484      1807484   \n",
       "262        Keka Bagno           PSOL   13613        1807484      1807484   \n",
       "263      Lucas Salles             DC    4218        1807484      1807484   \n",
       "264            Robson           PSTU     841        1807484      1807484   \n",
       "265      Renan Arruda            PCO     373        1807484      1807484   \n",
       "\n",
       "     turno   ano  id_poder_360 local_que_concorreu  \n",
       "0        1  2018          4820                  ac  \n",
       "1        1  2022          4820                  ac  \n",
       "2        1  2018          3578                  ac  \n",
       "3        1  2018          4821                  ac  \n",
       "4        1  2018          4825                  ac  \n",
       "..     ...   ...           ...                 ...  \n",
       "261      1  2022           695                  df  \n",
       "262      1  2022          6184                  df  \n",
       "263      1  2022          6205                  df  \n",
       "264      1  2022          1447                  df  \n",
       "265      1  2022          6327                  df  \n",
       "\n",
       "[266 rows x 9 columns]"
      ]
     },
     "execution_count": 393,
     "metadata": {},
     "output_type": "execute_result"
    }
   ],
   "source": [
    "pesquisas = pd.read_csv('pesquisas_eleitorais.csv')\n",
    "aux_idpoder360 = pesquisas[['nome_candidato','id_candidato_poder360']].drop_duplicates()\n",
    "resultados = pd.merge(resultados,aux_idpoder360,left_on='nomes',right_on='nome_candidato').drop('nome_candidato',1)\n",
    "\n",
    "resultados = resultados.rename(columns={'nomes':'nome','votos_totais':'total_votos','id_candidato_poder360':'id_poder_360','estado':'local_que_concorreu'})\n",
    "resultados = resultados[['nome','partido','votos','votos_validos','total_votos','turno','ano','id_poder_360','local_que_concorreu']]\n",
    "resultados"
   ]
  },
  {
   "cell_type": "code",
   "execution_count": 394,
   "id": "fff01a18",
   "metadata": {
    "ExecuteTime": {
     "end_time": "2022-10-12T19:55:01.251243Z",
     "start_time": "2022-10-12T19:55:01.239153Z"
    }
   },
   "outputs": [],
   "source": [
    "resultados.to_csv('resultados_governador.csv',index=False)"
   ]
  },
  {
   "cell_type": "code",
   "execution_count": null,
   "id": "6a94efe5",
   "metadata": {},
   "outputs": [],
   "source": [
    "# colocar na analise de ml (verificar as info que tinha na tabela de resultado e replicar) \n",
    "# colocar na analise de ml (verificar passo a passo pra ver se n tem nenum outro problema!)"
   ]
  }
 ],
 "metadata": {
  "kernelspec": {
   "display_name": "Python 3 (ipykernel)",
   "language": "python",
   "name": "python3"
  },
  "language_info": {
   "codemirror_mode": {
    "name": "ipython",
    "version": 3
   },
   "file_extension": ".py",
   "mimetype": "text/x-python",
   "name": "python",
   "nbconvert_exporter": "python",
   "pygments_lexer": "ipython3",
   "version": "3.9.2"
  },
  "toc": {
   "base_numbering": 1,
   "nav_menu": {},
   "number_sections": false,
   "sideBar": true,
   "skip_h1_title": false,
   "title_cell": "Table of Contents",
   "title_sidebar": "Contents",
   "toc_cell": false,
   "toc_position": {},
   "toc_section_display": true,
   "toc_window_display": false
  }
 },
 "nbformat": 4,
 "nbformat_minor": 5
}
